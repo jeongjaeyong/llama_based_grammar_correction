{
 "cells": [
  {
   "cell_type": "code",
   "execution_count": 1,
   "id": "9059242b-cee5-4f43-b3d1-63b2504b03d1",
   "metadata": {},
   "outputs": [],
   "source": [
    "from transformers import AutoTokenizer, LlamaForCausalLM\n",
    "from transformers import LlamaTokenizer\n",
    "import pandas as pd\n",
    "import torch\n",
    "import loralib as lora"
   ]
  },
  {
   "cell_type": "code",
   "execution_count": null,
   "id": "7fe9ecf9-5411-4a5e-9be5-44b1a19380c9",
   "metadata": {},
   "outputs": [
    {
     "data": {
      "application/vnd.jupyter.widget-view+json": {
       "model_id": "70dd22078cde4bbfa86ee7d069db0aca",
       "version_major": 2,
       "version_minor": 0
      },
      "text/plain": [
       "Loading checkpoint shards:   0%|          | 0/34 [00:00<?, ?it/s]"
      ]
     },
     "metadata": {},
     "output_type": "display_data"
    },
    {
     "name": "stderr",
     "output_type": "stream",
     "text": [
      "Some weights of LlamaForCausalLM were not initialized from the model checkpoint at sharpbai/vicuna-7b-v1.3 and are newly initialized: ['model.layers.12.self_attn.q_proj.lora_A', 'model.layers.1.self_attn.v_proj.lora_B', 'model.layers.4.self_attn.q_proj.lora_B', 'model.layers.25.self_attn.q_proj.lora_B', 'model.layers.1.self_attn.v_proj.bias', 'model.layers.24.self_attn.q_proj.lora_B', 'model.layers.22.self_attn.q_proj.lora_A', 'model.layers.5.self_attn.v_proj.lora_B', 'model.layers.4.self_attn.v_proj.lora_B', 'model.layers.4.self_attn.q_proj.lora_A', 'model.layers.26.self_attn.v_proj.lora_A', 'model.layers.24.self_attn.q_proj.lora_A', 'model.layers.5.self_attn.q_proj.bias', 'model.layers.21.self_attn.v_proj.bias', 'model.layers.19.self_attn.v_proj.lora_A', 'model.layers.20.self_attn.q_proj.lora_B', 'model.layers.7.self_attn.q_proj.bias', 'model.layers.1.self_attn.q_proj.lora_A', 'model.layers.6.self_attn.q_proj.lora_A', 'model.layers.4.self_attn.v_proj.bias', 'model.layers.19.self_attn.v_proj.bias', 'model.layers.23.self_attn.v_proj.lora_A', 'model.layers.14.self_attn.v_proj.lora_B', 'model.layers.14.self_attn.q_proj.lora_A', 'model.layers.3.self_attn.v_proj.lora_A', 'model.layers.16.self_attn.v_proj.lora_B', 'model.layers.8.self_attn.v_proj.lora_A', 'model.layers.13.self_attn.v_proj.lora_B', 'model.layers.28.self_attn.q_proj.lora_A', 'model.layers.22.self_attn.v_proj.bias', 'model.layers.27.self_attn.v_proj.lora_B', 'model.layers.29.self_attn.v_proj.lora_B', 'model.layers.31.self_attn.v_proj.lora_A', 'model.layers.3.self_attn.v_proj.lora_B', 'model.layers.23.self_attn.q_proj.lora_B', 'model.layers.21.self_attn.q_proj.lora_A', 'model.layers.27.self_attn.v_proj.bias', 'model.layers.8.self_attn.v_proj.bias', 'model.layers.6.self_attn.v_proj.lora_A', 'model.layers.30.self_attn.q_proj.lora_B', 'model.layers.15.self_attn.q_proj.bias', 'model.layers.1.self_attn.q_proj.bias', 'model.layers.6.self_attn.q_proj.lora_B', 'model.layers.31.self_attn.q_proj.bias', 'model.layers.17.self_attn.v_proj.lora_A', 'model.layers.17.self_attn.q_proj.lora_A', 'model.layers.5.self_attn.q_proj.lora_A', 'model.layers.6.self_attn.v_proj.bias', 'model.layers.20.self_attn.q_proj.lora_A', 'model.layers.1.self_attn.q_proj.lora_B', 'model.layers.23.self_attn.v_proj.bias', 'model.layers.30.self_attn.v_proj.lora_B', 'model.layers.16.self_attn.q_proj.lora_A', 'model.layers.26.self_attn.q_proj.lora_B', 'model.layers.20.self_attn.v_proj.lora_A', 'model.layers.10.self_attn.v_proj.lora_A', 'model.layers.24.self_attn.v_proj.lora_A', 'model.layers.9.self_attn.q_proj.bias', 'model.layers.3.self_attn.q_proj.lora_A', 'model.layers.3.self_attn.q_proj.lora_B', 'model.layers.15.self_attn.q_proj.lora_B', 'model.layers.12.self_attn.v_proj.bias', 'model.layers.24.self_attn.q_proj.bias', 'model.layers.21.self_attn.v_proj.lora_A', 'model.layers.25.self_attn.v_proj.lora_B', 'model.layers.17.self_attn.q_proj.bias', 'model.layers.20.self_attn.q_proj.bias', 'model.layers.6.self_attn.q_proj.bias', 'model.layers.4.self_attn.v_proj.lora_A', 'model.layers.18.self_attn.v_proj.lora_B', 'model.layers.4.self_attn.q_proj.bias', 'model.layers.17.self_attn.v_proj.lora_B', 'model.layers.13.self_attn.v_proj.bias', 'model.layers.30.self_attn.v_proj.bias', 'model.layers.19.self_attn.q_proj.lora_B', 'model.layers.9.self_attn.v_proj.bias', 'model.layers.23.self_attn.q_proj.bias', 'model.layers.14.self_attn.q_proj.lora_B', 'model.layers.31.self_attn.q_proj.lora_B', 'model.layers.25.self_attn.v_proj.bias', 'model.layers.29.self_attn.v_proj.lora_A', 'model.layers.7.self_attn.v_proj.bias', 'model.layers.11.self_attn.q_proj.lora_B', 'model.layers.26.self_attn.q_proj.lora_A', 'model.layers.29.self_attn.q_proj.lora_B', 'model.layers.5.self_attn.v_proj.bias', 'model.layers.8.self_attn.v_proj.lora_B', 'model.layers.13.self_attn.q_proj.bias', 'model.layers.7.self_attn.v_proj.lora_A', 'model.layers.28.self_attn.q_proj.bias', 'model.layers.21.self_attn.q_proj.lora_B', 'model.layers.22.self_attn.q_proj.bias', 'model.layers.3.self_attn.q_proj.bias', 'model.layers.28.self_attn.q_proj.lora_B', 'model.layers.29.self_attn.q_proj.lora_A', 'model.layers.29.self_attn.v_proj.bias', 'model.layers.2.self_attn.v_proj.bias', 'model.layers.30.self_attn.q_proj.lora_A', 'model.layers.8.self_attn.q_proj.bias', 'model.layers.25.self_attn.q_proj.bias', 'model.layers.22.self_attn.v_proj.lora_A', 'model.layers.27.self_attn.q_proj.lora_B', 'model.layers.28.self_attn.v_proj.lora_A', 'model.layers.10.self_attn.q_proj.bias', 'model.layers.16.self_attn.q_proj.lora_B', 'model.layers.8.self_attn.q_proj.lora_A', 'model.layers.9.self_attn.q_proj.lora_B', 'model.layers.21.self_attn.v_proj.lora_B', 'model.layers.10.self_attn.v_proj.bias', 'model.layers.29.self_attn.q_proj.bias', 'model.layers.28.self_attn.v_proj.bias', 'model.layers.10.self_attn.q_proj.lora_B', 'model.layers.5.self_attn.v_proj.lora_A', 'model.layers.5.self_attn.q_proj.lora_B', 'model.layers.15.self_attn.v_proj.lora_A', 'model.layers.20.self_attn.v_proj.bias', 'model.layers.1.self_attn.v_proj.lora_A', 'model.layers.0.self_attn.v_proj.lora_B', 'model.layers.31.self_attn.v_proj.lora_B', 'model.layers.2.self_attn.v_proj.lora_A', 'model.layers.15.self_attn.v_proj.bias', 'model.layers.19.self_attn.q_proj.lora_A', 'model.layers.7.self_attn.q_proj.lora_B', 'model.layers.6.self_attn.v_proj.lora_B', 'model.layers.19.self_attn.q_proj.bias', 'model.layers.13.self_attn.q_proj.lora_A', 'model.layers.18.self_attn.v_proj.bias', 'model.layers.16.self_attn.q_proj.bias', 'model.layers.22.self_attn.q_proj.lora_B', 'model.layers.25.self_attn.v_proj.lora_A', 'model.layers.9.self_attn.v_proj.lora_B', 'model.layers.0.self_attn.q_proj.lora_B', 'model.layers.17.self_attn.v_proj.bias', 'model.layers.30.self_attn.q_proj.bias', 'model.layers.26.self_attn.v_proj.lora_B', 'model.layers.0.self_attn.q_proj.lora_A', 'model.layers.14.self_attn.v_proj.bias', 'model.layers.26.self_attn.v_proj.bias', 'model.layers.14.self_attn.q_proj.bias', 'model.layers.18.self_attn.q_proj.bias', 'model.layers.2.self_attn.q_proj.lora_A', 'model.layers.12.self_attn.q_proj.bias', 'model.layers.20.self_attn.v_proj.lora_B', 'model.layers.31.self_attn.v_proj.bias', 'model.layers.13.self_attn.v_proj.lora_A', 'model.layers.9.self_attn.q_proj.lora_A', 'model.layers.2.self_attn.q_proj.lora_B', 'model.layers.15.self_attn.q_proj.lora_A', 'model.layers.7.self_attn.v_proj.lora_B', 'model.layers.24.self_attn.v_proj.bias', 'model.layers.2.self_attn.v_proj.lora_B', 'model.layers.30.self_attn.v_proj.lora_A', 'model.layers.0.self_attn.v_proj.lora_A', 'model.layers.9.self_attn.v_proj.lora_A', 'model.layers.11.self_attn.q_proj.lora_A', 'model.layers.23.self_attn.v_proj.lora_B', 'model.layers.31.self_attn.q_proj.lora_A', 'model.layers.16.self_attn.v_proj.lora_A', 'model.layers.18.self_attn.v_proj.lora_A', 'model.layers.0.self_attn.v_proj.bias', 'model.layers.23.self_attn.q_proj.lora_A', 'model.layers.18.self_attn.q_proj.lora_A', 'model.layers.12.self_attn.q_proj.lora_B', 'model.layers.14.self_attn.v_proj.lora_A', 'model.layers.0.self_attn.q_proj.bias', 'model.layers.11.self_attn.q_proj.bias', 'model.layers.10.self_attn.v_proj.lora_B', 'model.layers.26.self_attn.q_proj.bias', 'model.layers.13.self_attn.q_proj.lora_B', 'model.layers.27.self_attn.v_proj.lora_A', 'model.layers.11.self_attn.v_proj.bias', 'model.layers.16.self_attn.v_proj.bias', 'model.layers.22.self_attn.v_proj.lora_B', 'model.layers.3.self_attn.v_proj.bias', 'model.layers.21.self_attn.q_proj.bias', 'model.layers.25.self_attn.q_proj.lora_A', 'model.layers.12.self_attn.v_proj.lora_A', 'model.layers.11.self_attn.v_proj.lora_A', 'model.layers.8.self_attn.q_proj.lora_B', 'model.layers.17.self_attn.q_proj.lora_B', 'model.layers.7.self_attn.q_proj.lora_A', 'model.layers.15.self_attn.v_proj.lora_B', 'model.layers.19.self_attn.v_proj.lora_B', 'model.layers.12.self_attn.v_proj.lora_B', 'model.layers.10.self_attn.q_proj.lora_A', 'model.layers.11.self_attn.v_proj.lora_B', 'model.layers.28.self_attn.v_proj.lora_B', 'model.layers.27.self_attn.q_proj.bias', 'model.layers.18.self_attn.q_proj.lora_B', 'model.layers.2.self_attn.q_proj.bias', 'model.layers.27.self_attn.q_proj.lora_A', 'model.layers.24.self_attn.v_proj.lora_B']\n",
      "You should probably TRAIN this model on a down-stream task to be able to use it for predictions and inference.\n",
      "You are using the legacy behaviour of the <class 'transformers.models.llama.tokenization_llama.LlamaTokenizer'>. This means that tokens that come after special tokens will not be properly handled. We recommend you to read the related pull request available at https://github.com/huggingface/transformers/pull/24565\n",
      "/opt/conda/envs/rapids/lib/python3.10/site-packages/transformers/generation/utils.py:1270: UserWarning: You have modified the pretrained model configuration to control generation. This is a deprecated strategy to control generation and will be removed soon, in a future version. Please use a generation configuration file (see https://huggingface.co/docs/transformers/main_classes/text_generation )\n",
      "  warnings.warn(\n"
     ]
    },
    {
     "name": "stdout",
     "output_type": "stream",
     "text": [
      "Hey, are you consciours? Can you talk to me?\n",
      "I'm a bit of a conspiracy theorist myself\n"
     ]
    }
   ],
   "source": [
    "\n",
    "data = pd.read_csv(\"grammar_fixed.csv\")\n",
    "wrong_sentences = data['wrong_sentences'].to_list()\n",
    "fixed_sentences = data['fixed_sentences'].to_list()\n",
    "results = data['result'].to_list()\n",
    "\n",
    "#sharpbai/vicuna-7b-v1.3\n",
    "#decapoda-research/llama-7b-hf\n",
    "\n",
    "model_name = 'sharpbai/vicuna-7b-v1.3'\n",
    "model = LlamaForCausalLM.from_pretrained(model_name).to(torch.bfloat16).to(\"cuda\")\n",
    "tokenizer = LlamaTokenizer.from_pretrained(model_name)\n",
    "\n",
    "prompt = \"Hey, are you consciours? Can you talk to me?\"\n",
    "inputs = tokenizer(prompt, return_tensors=\"pt\")\n",
    "\n",
    "# Generate\n",
    "# generate_ids = model.generate(inputs.input_ids.to('cuda'), max_length=30)\n",
    "generate_ids = model.generate(inputs.input_ids.to('cuda'), max_length=30)\n",
    "return_text = tokenizer.batch_decode(generate_ids, skip_special_tokens=True, clean_up_tokenization_spaces=False)[0]\n",
    "print(return_text)\n",
    "\n",
    "'''\n",
    "train\n",
    "'''\n",
    "\n",
    "lora.mark_only_lora_as_trainable(model)\n",
    "optimizer = torch.optim.Adam(model.parameters(), lr=5e-4)\n",
    "epochs = 30\n",
    "for epoch in range(epochs):\n",
    "    for wrong_sentence, fixed_sentence, result in zip(wrong_sentences, fixed_sentences, results):\n",
    "        instruction = \"instruction : if there are grammatical errors in the sentence, correct them and make the sentence again. and explain the result.\\n\\n\"\n",
    "        prompt = instruction + 'input : \\n\\noriginal Sentence : \"' + wrong_sentence + '\" \\n\\nResult : \"' + fixed_sentence +'\"\\n\\nExplanation : ' + result\n",
    "        inputs = tokenizer(prompt, return_tensors=\"pt\")\n",
    "        ouputs = model(inputs.input_ids.to('cuda'), labels = inputs.input_ids.to('cuda'))\n",
    "        optimizer.zero_grad()\n",
    "        ouputs.loss.backward()\n",
    "        optimizer.step()\n",
    "\n",
    "torch.save(lora.lora_state_dict(model), \"llama.pt\")\n"
   ]
  },
  {
   "cell_type": "code",
   "execution_count": null,
   "id": "2486ec71-19a3-45c9-8626-8913164b2b9c",
   "metadata": {},
   "outputs": [],
   "source": []
  }
 ],
 "metadata": {
  "kernelspec": {
   "display_name": "Python 3 (ipykernel)",
   "language": "python",
   "name": "python3"
  },
  "language_info": {
   "codemirror_mode": {
    "name": "ipython",
    "version": 3
   },
   "file_extension": ".py",
   "mimetype": "text/x-python",
   "name": "python",
   "nbconvert_exporter": "python",
   "pygments_lexer": "ipython3",
   "version": "3.10.11"
  }
 },
 "nbformat": 4,
 "nbformat_minor": 5
}
